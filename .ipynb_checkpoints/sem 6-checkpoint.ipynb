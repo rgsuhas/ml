{
 "cells": [
  {
   "cell_type": "code",
   "execution_count": 1,
   "id": "f90363cb-1345-4f62-96ab-37b0782caf2e",
   "metadata": {},
   "outputs": [
    {
     "name": "stdout",
     "output_type": "stream",
     "text": [
      "[Module 1] Fetching page…\n",
      " ⚠️ No download link found on module 1\n",
      "[Module 2] Fetching page…\n",
      " ⚠️ No download link found on module 2\n",
      "[Module 3] Fetching page…\n",
      " ⚠️ No download link found on module 3\n",
      "[Module 4] Fetching page…\n",
      " ⚠️ No download link found on module 4\n",
      "[Module 5] Fetching page…\n",
      " ⚠️ No download link found on module 5\n"
     ]
    }
   ],
   "source": [
    "import requests\n",
    "from bs4 import BeautifulSoup\n",
    "import os\n",
    "\n",
    "BASE_URL = \"https://vtucircle.com/bcs601-module-{}-textbook/\"\n",
    "HEADERS = {\n",
    "    \"User-Agent\": \"Mozilla/5.0 (compatible; vtucircle-downloader/1.0)\"\n",
    "}\n",
    "DOWNLOAD_DIR = \"/home/rgsuhas/Desktop/sem-6\"\n",
    "os.makedirs(DOWNLOAD_DIR, exist_ok=True)\n",
    "\n",
    "def get_download_url(module_num):\n",
    "    url = BASE_URL.format(module_num)\n",
    "    resp = requests.get(url, headers=HEADERS)\n",
    "    resp.raise_for_status()\n",
    "    soup = BeautifulSoup(resp.text, \"html.parser\")\n",
    "    \n",
    "    # Search for a Google Drive link in anchor tags with 'download' in the text\n",
    "    for a in soup.find_all(\"a\", href=True):\n",
    "        text = a.get_text(strip=True).lower()\n",
    "        href = a[\"href\"]\n",
    "        if \"download\" in text and \"drive.google.com\" in href:\n",
    "            return href\n",
    "    return None\n",
    "\n",
    "def download_file(url, dest_path):\n",
    "    resp = requests.get(url, headers=HEADERS, stream=True)\n",
    "    resp.raise_for_status()\n",
    "    total = int(resp.headers.get('content-length', 0))\n",
    "    with open(dest_path, \"wb\") as f:\n",
    "        for chunk in resp.iter_content(chunk_size=8192):\n",
    "            if chunk:\n",
    "                f.write(chunk)\n",
    "    print(f\"Downloaded: {dest_path} ({total} bytes)\")\n",
    "\n",
    "if __name__ == \"__main__\":\n",
    "    for n in range(1, 6):\n",
    "        print(f\"[Module {n}] Fetching page…\")\n",
    "        dl_url = get_download_url(n)\n",
    "        if dl_url:\n",
    "            print(\" → found file:\", dl_url)\n",
    "            fname = os.path.join(DOWNLOAD_DIR, f\"BCS601_Module_{n}{os.path.splitext(dl_url)[-1]}\")\n",
    "            download_file(dl_url, fname)\n",
    "        else:\n",
    "            print(\" ⚠️ No download link found on module\", n)\n"
   ]
  },
  {
   "cell_type": "code",
   "execution_count": null,
   "id": "0b890089-3c2f-408b-9b51-1f4baa656b26",
   "metadata": {},
   "outputs": [],
   "source": []
  }
 ],
 "metadata": {
  "kernelspec": {
   "display_name": "Python 3 (ipykernel)",
   "language": "python",
   "name": "python3"
  },
  "language_info": {
   "codemirror_mode": {
    "name": "ipython",
    "version": 3
   },
   "file_extension": ".py",
   "mimetype": "text/x-python",
   "name": "python",
   "nbconvert_exporter": "python",
   "pygments_lexer": "ipython3",
   "version": "3.12.3"
  }
 },
 "nbformat": 4,
 "nbformat_minor": 5
}
